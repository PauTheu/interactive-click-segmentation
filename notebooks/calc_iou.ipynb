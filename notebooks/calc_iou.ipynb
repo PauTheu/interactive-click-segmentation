{
 "cells": [
  {
   "cell_type": "code",
   "execution_count": 102,
   "id": "d6657b85-c400-41a3-ab84-48d1ac6c576c",
   "metadata": {},
   "outputs": [],
   "source": [
    "import numpy as np\n",
    "import os\n",
    "from skimage.io import imread"
   ]
  },
  {
   "cell_type": "code",
   "execution_count": 103,
   "id": "c9e5e0ef-8ced-4518-b648-01478a9c9b53",
   "metadata": {},
   "outputs": [],
   "source": [
    "from PIL import Image\n",
    "from skimage.transform import resize"
   ]
  },
  {
   "cell_type": "code",
   "execution_count": 104,
   "id": "76e92f66-f0c9-431b-a9d9-e44236c4e6af",
   "metadata": {},
   "outputs": [],
   "source": [
    "# AVERAGE CLICKS I1 15/5 # AVERAGE IOU 0.9446336210247872\n",
    "# AVERAGE CLICKS I2 28/5 # AVERAGE IOU 0.9463231004318436\n",
    "# AVERAGE CLICKS I3 11/5 # AVERAGE IOU 0.9578561521136355\n",
    "iou_list = []"
   ]
  },
  {
   "cell_type": "code",
   "execution_count": 105,
   "id": "cd222fe4-75c4-4902-99c9-6c51f7057155",
   "metadata": {},
   "outputs": [],
   "source": [
    "def calc_iou(mask1, mask2):\n",
    "    # Convert the masks to binary arrays\n",
    "    mask1 = np.array(mask1, dtype=bool)\n",
    "    mask2 = np.array(mask2, dtype=bool)\n",
    "    mask2 = resize(mask2, mask1.shape, order=0, mode='constant', anti_aliasing=False)\n",
    "    \n",
    "    # Calculate intersection and union\n",
    "    intersection = np.logical_and(mask1, mask2)\n",
    "    union = np.logical_or(mask1, mask2)\n",
    "    \n",
    "    # Calculate IoU\n",
    "    iou_score = np.sum(intersection) / np.sum(union)\n",
    "    \n",
    "    return iou_score"
   ]
  },
  {
   "cell_type": "code",
   "execution_count": 106,
   "id": "482d0296-91c8-4db8-94c3-bd85eb416ee2",
   "metadata": {},
   "outputs": [],
   "source": [
    "# Define relative paths to ground truth and sampled mask folders\n",
    "gt_path = \"masks/gt/\"\n",
    "# change path here for different interviewees\n",
    "sampled_path = \"masks/i3\"\n",
    "\n",
    "# Get absolute paths to ground truth and sampled mask folders\n",
    "current_dir = os.getcwd()\n",
    "gt_folder = os.path.join(current_dir, gt_path)\n",
    "sampled_folder = os.path.join(current_dir, sampled_path)\n",
    "\n",
    "# Get list of filenames in each folder\n",
    "gt_filenames = sorted(os.listdir(gt_folder))\n",
    "sampled_filenames = sorted(os.listdir(sampled_folder))"
   ]
  },
  {
   "cell_type": "code",
   "execution_count": 107,
   "id": "f9be09e8-09d3-46ac-9c68-579ed0a5b9fe",
   "metadata": {},
   "outputs": [],
   "source": [
    "del gt_filenames[0]\n",
    "del sampled_filenames[0]"
   ]
  },
  {
   "cell_type": "code",
   "execution_count": 108,
   "id": "835ed51c-7274-4877-9a9b-5c70b4012340",
   "metadata": {},
   "outputs": [
    {
     "data": {
      "text/plain": [
       "['home_appliance1num_clicks4.png',\n",
       " 'horse5num_clicks1.png',\n",
       " 'motor_vehicle3num_clicks3.png',\n",
       " 'toothbrush2num_clicks2.png']"
      ]
     },
     "execution_count": 108,
     "metadata": {},
     "output_type": "execute_result"
    }
   ],
   "source": [
    "sampled_filenames"
   ]
  },
  {
   "cell_type": "code",
   "execution_count": 109,
   "id": "ab2cb743-3ff7-42b4-832f-07cb4156d867",
   "metadata": {},
   "outputs": [],
   "source": [
    "# Iterate over all pairs of masks and calculate IoU\n",
    "iou_matrix = np.zeros((len(gt_filenames), len(sampled_filenames)))\n",
    "for i, gt_filename in enumerate(gt_filenames):\n",
    "    gt_mask = imread(os.path.join(gt_folder, gt_filename), as_gray=True)\n",
    "    for j, sampled_filename in enumerate(sampled_filenames):\n",
    "        sampled_mask = imread(os.path.join(sampled_folder, sampled_filename), as_gray=True)\n",
    "        iou = calc_iou(gt_mask, sampled_mask)\n",
    "        if (iou > 0.8): iou_list.append(iou)\n",
    "        \n"
   ]
  },
  {
   "cell_type": "code",
   "execution_count": 110,
   "id": "52fb6c43-c7c2-4e83-b522-dd35028630e8",
   "metadata": {},
   "outputs": [
    {
     "name": "stdout",
     "output_type": "stream",
     "text": [
      "0.9578561521136355\n"
     ]
    }
   ],
   "source": [
    "avg = sum(iou_list) / len(iou_list)\n",
    "print(avg)  "
   ]
  },
  {
   "cell_type": "code",
   "execution_count": null,
   "id": "16e79089-f7e5-4128-8713-48ddf64937c3",
   "metadata": {},
   "outputs": [],
   "source": []
  }
 ],
 "metadata": {
  "kernelspec": {
   "display_name": "Python 3 (ipykernel)",
   "language": "python",
   "name": "python3"
  },
  "language_info": {
   "codemirror_mode": {
    "name": "ipython",
    "version": 3
   },
   "file_extension": ".py",
   "mimetype": "text/x-python",
   "name": "python",
   "nbconvert_exporter": "python",
   "pygments_lexer": "ipython3",
   "version": "3.10.6"
  }
 },
 "nbformat": 4,
 "nbformat_minor": 5
}
